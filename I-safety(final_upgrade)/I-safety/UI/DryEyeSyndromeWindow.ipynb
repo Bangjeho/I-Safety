{
 "cells": [
  {
   "cell_type": "code",
   "execution_count": 1,
   "metadata": {},
   "outputs": [],
   "source": [
    "import sys\n",
    "from PyQt5.QtWidgets import *\n",
    "from PyQt5 import uic\n",
    "from PyQt5.QAxContainer import *\n",
    "from PyQt5.QtGui import *\n",
    "import distance_to_camera_and_face as dtc\n",
    "import eye_blink_detection as ebd"
   ]
  },
  {
   "cell_type": "code",
   "execution_count": 2,
   "metadata": {},
   "outputs": [],
   "source": [
    "form_class = uic.loadUiType(\"DryEyeSyndromeWindow.Ui\")[0]\n",
    "class DryEyeSyndromeWindow(QMainWindow,form_class):\n",
    "    def __init__(self):\n",
    "        super().__init__()\n",
    "        self.setFixedSize(321, 278)\n",
    "        self.setUI()\n",
    "        \n",
    "    def setUI(self):\n",
    "        self.setupUi(self)\n",
    "        self.pushButton.clicked.connect(self.BackMainWindow)\n",
    "        self.pushButton_3.clicked.connect(self.Clickblink)\n",
    "        self.pushButton_4.clicked.connect(self.Clicksurvey)\n",
    "        \n",
    "    def Clicksurvey(self):\n",
    "        from SelfSurveyWindow import SelfSurveyWindow\n",
    "        if self.pushButton_3.isChecked():\n",
    "            self.Win = SelfSurveyWindow()\n",
    "            self.Win.show()\n",
    "        else:\n",
    "            QMessageBox.about(self, \"Waring!\", \"please Check 'Catch eye blink' Button.\")\n",
    "    def Clickblink(self):\n",
    "        QMessageBox.about(self, \"notice\", \"checking your eyes blink in 20sec. \\n Keep your eyes open for 20 sec. \")\n",
    "        ebd.Run()\n",
    "        if self.pushButton_3.isChecked():\n",
    "            pass\n",
    "        else:\n",
    "            self.pushButton_3.setChecked(True)\n",
    "    def BackMainWindow(self):\n",
    "        from MainWindow import MainWindow\n",
    "        self.MainWin = MainWindow()\n",
    "        self.MainWin.show()\n",
    "        self.hide()\n",
    "if __name__ == \"__main__\":\n",
    "    app = QApplication(sys.argv)\n",
    "    myApp = DryEyeSyndromeWindow()\n",
    "    myApp.show()\n",
    "    app.exec()"
   ]
  },
  {
   "cell_type": "code",
   "execution_count": null,
   "metadata": {},
   "outputs": [],
   "source": []
  }
 ],
 "metadata": {
  "kernelspec": {
   "display_name": "Python 3",
   "language": "python",
   "name": "python3"
  },
  "language_info": {
   "codemirror_mode": {
    "name": "ipython",
    "version": 3
   },
   "file_extension": ".py",
   "mimetype": "text/x-python",
   "name": "python",
   "nbconvert_exporter": "python",
   "pygments_lexer": "ipython3",
   "version": "3.6.9"
  }
 },
 "nbformat": 4,
 "nbformat_minor": 2
}
