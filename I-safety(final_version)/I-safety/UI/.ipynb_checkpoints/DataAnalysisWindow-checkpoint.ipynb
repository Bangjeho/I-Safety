{
 "cells": [
  {
   "cell_type": "code",
   "execution_count": 1,
   "metadata": {},
   "outputs": [],
   "source": [
    "import sys\n",
    "from PyQt5.QtWidgets import *\n",
    "from PyQt5 import uic,QtGui\n",
    "from PyQt5.QAxContainer import *\n",
    "from PyQt5.QtGui import *\n",
    "import distance_to_camera_and_face as dtc\n",
    "import eye_blink_detection as ebd\n",
    "import datetime\n",
    "from datetime import timedelta\n",
    "from dateutil.relativedelta import relativedelta\n",
    "from image_making import image_making as im"
   ]
  },
  {
   "cell_type": "code",
   "execution_count": 2,
   "metadata": {},
   "outputs": [],
   "source": [
    "form_class = uic.loadUiType(\"DataAnalysisWindow.Ui\")[0]\n",
    "class DataAnalysisWindow(QMainWindow,form_class):\n",
    "    \n",
    "    def __init__(self):\n",
    "        super().__init__()\n",
    "        self.setFixedSize(321, 527)\n",
    "        self.setUI()\n",
    "        \n",
    "    def setUI(self):\n",
    "        self.setupUi(self)\n",
    "        self.label.setText(datetime.datetime.today().strftime('%m'))\n",
    "        self.label_2.setText(datetime.datetime.today().strftime('%Y'))\n",
    "        self.pushButton_2.clicked.connect(self.BackMainWindow)\n",
    "        self.pushButton.clicked.connect(self.SubMonth)\n",
    "        self.pushButton_3.clicked.connect(self.AddMonth)\n",
    "        \n",
    "    def AddMonth(self):\n",
    "        if self.label.text() == '12':\n",
    "            get_year = datetime.datetime.strptime(self.label_2.text(),'%Y')\n",
    "            new_year = get_year + relativedelta(years= 1)\n",
    "            new_year = new_year.strftime('%Y')\n",
    "            self.label_2.setText(new_year)\n",
    "            \n",
    "        get_month = datetime.datetime.strptime(self.label.text(),'%m')\n",
    "        new_month = get_month + relativedelta(months= 1)\n",
    "        new_month = new_month.strftime('%m')\n",
    "        self.label.setText(new_month)\n",
    "        year = self.label_2.text()\n",
    "        month = self.label.text\n",
    "        im.set_date(year,month)\n",
    "        im.setting_database(self.label_4)\n",
    "    def SubMonth(self):\n",
    "        if self.label.text() == '01':\n",
    "            get_year = datetime.datetime.strptime(self.label_2.text(),'%Y')\n",
    "            new_year = get_year - relativedelta(years= 1)\n",
    "            new_year = new_year.strftime('%Y')\n",
    "            self.label_2.setText(new_year)\n",
    "            \n",
    "        get_month = datetime.datetime.strptime(self.label.text(),'%m')\n",
    "        new_month = get_month - relativedelta(months= 1)\n",
    "        new_month = new_month.strftime('%m')\n",
    "        self.label.setText(new_month)\n",
    "        year = self.label_2.text()\n",
    "        month = self.label.text\n",
    "        im.set_date(year,month)\n",
    "        im.setting_database(self.label_4)\n",
    "    def BackMainWindow(self):\n",
    "        from MainWindow import MainWindow\n",
    "        self.MainWin = MainWindow()\n",
    "        self.MainWin.show()\n",
    "        self.hide()\n",
    "        \n",
    "if __name__ == \"__main__\":\n",
    "    app = QApplication(sys.argv)\n",
    "    myApp = DataAnalysisWindow()\n",
    "    myApp.show()\n",
    "    app.exec()"
   ]
  },
  {
   "cell_type": "code",
   "execution_count": null,
   "metadata": {},
   "outputs": [],
   "source": []
  }
 ],
 "metadata": {
  "kernelspec": {
   "display_name": "Python 3",
   "language": "python",
   "name": "python3"
  },
  "language_info": {
   "codemirror_mode": {
    "name": "ipython",
    "version": 3
   },
   "file_extension": ".py",
   "mimetype": "text/x-python",
   "name": "python",
   "nbconvert_exporter": "python",
   "pygments_lexer": "ipython3",
   "version": "3.6.9"
  }
 },
 "nbformat": 4,
 "nbformat_minor": 2
}
