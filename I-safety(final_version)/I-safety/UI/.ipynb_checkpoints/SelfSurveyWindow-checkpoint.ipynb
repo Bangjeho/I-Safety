{
 "cells": [
  {
   "cell_type": "code",
   "execution_count": 1,
   "metadata": {},
   "outputs": [],
   "source": [
    "import sys\n",
    "from PyQt5.QtWidgets import *\n",
    "from PyQt5 import uic\n",
    "from PyQt5.QAxContainer import *\n",
    "from PyQt5.QtGui import *\n",
    "import eye_blink_detection as ebd"
   ]
  },
  {
   "cell_type": "code",
   "execution_count": 2,
   "metadata": {},
   "outputs": [],
   "source": [
    "form_class = uic.loadUiType(\"SelfSurvey.Ui\")[0]\n",
    "class SelfSurveyWindow(QMainWindow,form_class):\n",
    "    def __init__(self):\n",
    "        self.count = 0\n",
    "        super().__init__()\n",
    "        self.setFixedSize(321, 527)\n",
    "        self.setUI()\n",
    "        self.pushButton.clicked.connect(self.Checkresult)\n",
    "        self.checkBox.clicked.connect(self.Checked)\n",
    "        self.checkBox_2.clicked.connect(self.Checked)\n",
    "        self.checkBox_3.clicked.connect(self.Checked)\n",
    "        self.checkBox_4.clicked.connect(self.Checked)\n",
    "        self.checkBox_5.clicked.connect(self.Checked)\n",
    "        self.checkBox_6.clicked.connect(self.Checked)\n",
    "        \n",
    "    def setUI(self):\n",
    "        self.setupUi(self)\n",
    "    \n",
    "    def Checked(self):\n",
    "        self.count += 1\n",
    "        \n",
    "    def Checkresult(self):\n",
    "        time = ebd.get_time()\n",
    "        from ResultWindow import ResultWindow\n",
    "        self.rw = ResultWindow()\n",
    "        self.rw.label_6.setText(str(time[0]) + \" sec\")\n",
    "        self.rw.label_7.setText(str(self.count))\n",
    "        self.rw.show()\n",
    "        self.hide()\n",
    "if __name__ == \"__main__\":\n",
    "    app = QApplication(sys.argv)\n",
    "    myApp = SelfSurveyWindow()\n",
    "    myApp.show()\n",
    "    app.exec()"
   ]
  },
  {
   "cell_type": "code",
   "execution_count": null,
   "metadata": {},
   "outputs": [],
   "source": []
  }
 ],
 "metadata": {
  "kernelspec": {
   "display_name": "Python 3",
   "language": "python",
   "name": "python3"
  },
  "language_info": {
   "codemirror_mode": {
    "name": "ipython",
    "version": 3
   },
   "file_extension": ".py",
   "mimetype": "text/x-python",
   "name": "python",
   "nbconvert_exporter": "python",
   "pygments_lexer": "ipython3",
   "version": "3.6.9"
  }
 },
 "nbformat": 4,
 "nbformat_minor": 2
}
