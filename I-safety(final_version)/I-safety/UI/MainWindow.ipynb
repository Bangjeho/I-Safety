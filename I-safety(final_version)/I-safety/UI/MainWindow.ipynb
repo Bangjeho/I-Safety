{
 "cells": [
  {
   "cell_type": "code",
   "execution_count": 1,
   "metadata": {},
   "outputs": [],
   "source": [
    "import sys\n",
    "from PyQt5.QtWidgets import *\n",
    "from PyQt5 import uic,QtGui\n",
    "from PyQt5.QAxContainer import *\n",
    "from PyQt5.QtGui import *\n",
    "import distance_to_camera_and_face as dtc\n",
    "import eye_blink_detection as ebd\n",
    "import time as t\n",
    "import image_making as im"
   ]
  },
  {
   "cell_type": "code",
   "execution_count": 2,
   "metadata": {},
   "outputs": [],
   "source": [
    "form_class = uic.loadUiType(\"MainWindow.Ui\")[0]\n",
    "class MainWindow(QMainWindow,form_class):\n",
    "    \n",
    "    def __init__(self):\n",
    "        super().__init__()\n",
    "        self.setFixedSize(321, 527)\n",
    "        self.setUI()\n",
    "        \n",
    "    def setUI(self):\n",
    "        self.setupUi(self)\n",
    "        self.pushButton.clicked.connect(self.OnOffButtonClick)\n",
    "        self.horizontalSlider.valueChanged.connect(self.ambient_light_control)\n",
    "        self.pushButton_3.clicked.connect(self.open_DiagnosisWindow)\n",
    "        self.pushButton_2.clicked.connect(self.open_dataAnalysisWindow)\n",
    "        \n",
    "    def open_dataAnalysisWindow(self):\n",
    "        from DataAnalysisWindow import DataAnalysisWindow\n",
    "        self.daw = DataAnalysisWindow()\n",
    "        self.daw.show()\n",
    "        im.set_date(self.daw.label_2.text(),self.daw.label.text())\n",
    "        im.setting_database(self.daw.label_4)\n",
    "        self.daw.label_4.setPixmap(QtGui.QPixmap('analysis_image.png.'))\n",
    "        self.hide()\n",
    "        \n",
    "    def open_DiagnosisWindow(self):\n",
    "        from DryEyeSyndromeWindow import DryEyeSyndromeWindow\n",
    "        if self.pushButton.isChecked():\n",
    "            self.pushButton.setChecked(False)\n",
    "            dtc.check(-1)\n",
    "        self.DiagnosisWindow = DryEyeSyndromeWindow()\n",
    "        self.DiagnosisWindow.show()\n",
    "        self.hide()\n",
    "        \n",
    "    def OnOffButtonClick(self):\n",
    "        if self.pushButton.isChecked():\n",
    "            dtc.check(1)\n",
    "            dtc.play(self.label_6)\n",
    "        else:\n",
    "            dtc.check(-1)\n",
    "    \n",
    "    def ambient_light_control(self):\n",
    "        value = self.horizontalSlider.value()\n",
    "        self.label_4.setText(str(value))\n",
    "        dtc.ambient_light_check(value)\n",
    "        \n",
    "if __name__ == \"__main__\":\n",
    "    app = QApplication(sys.argv)\n",
    "    myApp = MainWindow()\n",
    "    myApp.show()\n",
    "    app.exec()\n",
    "        "
   ]
  },
  {
   "cell_type": "code",
   "execution_count": null,
   "metadata": {},
   "outputs": [],
   "source": []
  }
 ],
 "metadata": {
  "kernelspec": {
   "display_name": "Python 3",
   "language": "python",
   "name": "python3"
  },
  "language_info": {
   "codemirror_mode": {
    "name": "ipython",
    "version": 3
   },
   "file_extension": ".py",
   "mimetype": "text/x-python",
   "name": "python",
   "nbconvert_exporter": "python",
   "pygments_lexer": "ipython3",
   "version": "3.6.9"
  }
 },
 "nbformat": 4,
 "nbformat_minor": 2
}
