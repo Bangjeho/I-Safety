{
 "cells": [
  {
   "cell_type": "code",
   "execution_count": 1,
   "metadata": {},
   "outputs": [],
   "source": [
    "import sys\n",
    "from PyQt5.QtWidgets import *\n",
    "from PyQt5 import uic\n",
    "from PyQt5.QAxContainer import *\n",
    "from PyQt5.QtGui import *"
   ]
  },
  {
   "cell_type": "code",
   "execution_count": 4,
   "metadata": {},
   "outputs": [],
   "source": [
    "form_class = uic.loadUiType(\"Result.Ui\")[0]\n",
    "class ResultWindow(QMainWindow,form_class):\n",
    "    def __init__(self):\n",
    "        super().__init__()\n",
    "        self.setFixedSize(332, 527)\n",
    "        self.setUI()\n",
    "        \n",
    "    def setUI(self):\n",
    "        self.setupUi(self)\n",
    "        self.pushButton.clicked.connect(self.OkClicked)\n",
    "        \n",
    "    def OkClicked(self):\n",
    "        self.hide()\n",
    "        \n",
    "if __name__ == \"__main__\":\n",
    "    app = QApplication(sys.argv)\n",
    "    myApp = ResultWindow()\n",
    "    myApp.show()\n",
    "    app.exec()"
   ]
  },
  {
   "cell_type": "code",
   "execution_count": null,
   "metadata": {},
   "outputs": [],
   "source": []
  }
 ],
 "metadata": {
  "kernelspec": {
   "display_name": "Python 3",
   "language": "python",
   "name": "python3"
  },
  "language_info": {
   "codemirror_mode": {
    "name": "ipython",
    "version": 3
   },
   "file_extension": ".py",
   "mimetype": "text/x-python",
   "name": "python",
   "nbconvert_exporter": "python",
   "pygments_lexer": "ipython3",
   "version": "3.6.9"
  }
 },
 "nbformat": 4,
 "nbformat_minor": 2
}
