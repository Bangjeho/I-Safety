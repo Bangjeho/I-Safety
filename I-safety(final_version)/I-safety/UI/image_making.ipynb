{
 "cells": [
  {
   "cell_type": "code",
   "execution_count": 1,
   "metadata": {},
   "outputs": [],
   "source": [
    "import pandas as pd\n",
    "import numpy as np\n",
    "import matplotlib.pyplot as plt"
   ]
  },
  {
   "cell_type": "code",
   "execution_count": 137,
   "metadata": {},
   "outputs": [],
   "source": [
    "select_year = [0]\n",
    "select_month = [0]\n",
    "\n",
    "def set_date(year,month):\n",
    "    database = pd.read_csv('data.csv')\n",
    "    select_year[0] = int(year)\n",
    "    select_month[0] = int(month)\n",
    "\n",
    "def get_database():\n",
    "    return database\n",
    "def get_date():\n",
    "    return select_year[0],select_month[0]\n",
    "\n",
    "def setting_database(label):\n",
    "    global database\n",
    "    database = get_datebase()\n",
    "    year, month = get_date()\n",
    "    database_subset = database[database.Year == year]\n",
    "    database_subset = database_subset[database_subset.Month == month]\n",
    "    if database_subset.empty():\n",
    "        label.setText(\"No Data\")\n",
    "    else:\n",
    "        data = database_subset.groupby(['Day']).mean().reset_index()\n",
    "        if len(data) == 1 :\n",
    "            day = data['Day']\n",
    "            x = np.intersect1d(np.arange(1,32),day)\n",
    "            y = data['Distance']\n",
    "            plt.bar(x,y)\n",
    "            plt.xlabel(\"Days\")\n",
    "            plt.ylabel(\"Distance\")\n",
    "            plt.title(\"Average distance of smartphone use in a day\")\n",
    "            plt.savefig('analysis_image.png')\n",
    "            label.setPixmap(QtGui.QPixmap('analysis_image.png.'))\n",
    "        else:\n",
    "            day = data['Day']\n",
    "            x = np.intersect1d(np.arange(1,32),day)\n",
    "            y = data['Distance']\n",
    "            plt.plot(x,y,label = 'Distance')\n",
    "            plt.xlabel(\"Days\")\n",
    "            plt.ylabel(\"Distance\")\n",
    "            plt.axis([1,31,0,150])\n",
    "            plt.title(\"Average distance of smartphone use in a month\")\n",
    "            plt.grid(color = 'gray', linestyle = '-', linewidth = 0.5)\n",
    "            plt.legend(loc = 9)\n",
    "            plt.savefig('analysis_image.png')\n",
    "            label.setPixmap(QtGui.QPixmap('analysis_image.png.'))\n",
    "#             plt.show()"
   ]
  },
  {
   "cell_type": "code",
   "execution_count": 138,
   "metadata": {},
   "outputs": [
    {
     "data": {
      "image/png": "[encoded data removed]",
      "text/plain": [
       "<Figure size 432x288 with 1 Axes>"
      ]
     },
     "metadata": {
      "needs_background": "light"
     },
     "output_type": "display_data"
    }
   ],
   "source": [
    "if __name__ == '__main__':\n",
    "    set_date(2019,10)\n",
    "    setting_database()"
   ]
  },
  {
   "cell_type": "code",
   "execution_count": null,
   "metadata": {},
   "outputs": [],
   "source": []
  }
 ],
 "metadata": {
  "kernelspec": {
   "display_name": "Python 3",
   "language": "python",
   "name": "python3"
  },
  "language_info": {
   "codemirror_mode": {
    "name": "ipython",
    "version": 3
   },
   "file_extension": ".py",
   "mimetype": "text/x-python",
   "name": "python",
   "nbconvert_exporter": "python",
   "pygments_lexer": "ipython3",
   "version": "3.6.9"
  }
 },
 "nbformat": 4,
 "nbformat_minor": 2
}
