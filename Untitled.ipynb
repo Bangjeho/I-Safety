{
 "cells": [
  {
   "cell_type": "code",
   "execution_count": null,
   "metadata": {
    "scrolled": true
   },
   "outputs": [],
   "source": [
    "import time\n",
    "import threading\n",
    "import tkinter\n",
    "from tkinter import messagebox as msg\n",
    "from tkinter import Tk\n",
    "t1 = time.time()\n",
    "def thread_run():\n",
    "    root = Tk()\n",
    "    root.withdraw()\n",
    "    tkinter.messagebox.showwarning(\"주의\",\"사용한 지 %d 분 지났습니다. 10분 정도 휴식을 취하십쇼.\" \n",
    "                                   % (int(t2-t1) / 60 ))\n",
    "    root.mainloop()\n",
    "def dsad():\n",
    "    if int(t2-t1) % 10 == 0 :\n",
    "        thread_run()\n",
    "while True :\n",
    "    t2 = time.time()\n",
    "    dsad()"
   ]
  },
  {
   "cell_type": "code",
   "execution_count": null,
   "metadata": {},
   "outputs": [],
   "source": []
  }
 ],
 "metadata": {
  "kernelspec": {
   "display_name": "Python 3",
   "language": "python",
   "name": "python3"
  },
  "language_info": {
   "codemirror_mode": {
    "name": "ipython",
    "version": 3
   },
   "file_extension": ".py",
   "mimetype": "text/x-python",
   "name": "python",
   "nbconvert_exporter": "python",
   "pygments_lexer": "ipython3",
   "version": "3.7.3"
  }
 },
 "nbformat": 4,
 "nbformat_minor": 2
}
